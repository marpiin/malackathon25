{
 "cells": [
  {
   "cell_type": "markdown",
   "metadata": {},
   "source": [
    "# 🧠 IA + Oracle: Hola mundo con Gemini API Key\n",
    "\n",
    "Este notebook muestra cómo conectar una base de datos Oracle y generar consultas SQL desde lenguaje natural usando el modelo Gemini de Google vía su librería oficial `google.generativeai`.\n",
    "\n",
    "🔑 Solo necesitas una clave API (`GOOGLE_API_KEY`).  \n",
    "❌ No se requiere `project_id`, `region` ni cuenta de servicio.\n",
    "\n",
    "Ideal para prototipos rápidos y prácticas educativas."
   ]
  },
  {
   "cell_type": "markdown",
   "metadata": {},
   "source": [
    "## 🔍 Comparativa: Vertex AI vs Gemini API Key\n",
    "\n",
    "| Característica              | Vertex AI (AISuite)         | Gemini API Key (`google.generativeai`) |\n",
    "|----------------------------|-----------------------------|----------------------------------------|\n",
    "| Requiere `project_id`      | ✅ Sí                        | ❌ No                                   |\n",
    "| Requiere `region`          | ✅ Sí                        | ❌ No                                   |\n",
    "| Requiere cuenta de servicio| ✅ Sí                        | ❌ No                                   |\n",
    "| Ideal para producción      | ✅                           | 🔸 Solo para prototipos y pruebas       |\n",
    "| Simplicidad de uso         | 🔸 Más compleja              | ✅ Muy sencilla                         |"
   ]
  },
  {
   "cell_type": "code",
   "execution_count": 1,
   "metadata": {},
   "outputs": [],
   "source": [
    "# 🔐 Configurar Gemini con API Key\n",
    "from dotenv import load_dotenv\n",
    "import os\n",
    "import google.generativeai as genai\n",
    "\n",
    "load_dotenv()\n",
    "GOOGLE_API_KEY = os.getenv(\"GOOGLE_API_KEY\")\n",
    "\n",
    "genai.configure(api_key=GOOGLE_API_KEY)\n",
    "model = genai.GenerativeModel(\"gemini-2.5-flash\")"
   ]
  },
  {
   "cell_type": "code",
   "execution_count": 5,
   "metadata": {},
   "outputs": [
    {
     "name": "stdout",
     "output_type": "stream",
     "text": [
      "Conectado como: MALACKATHON\n"
     ]
    }
   ],
   "source": [
    "# 🔗 Conexión a Oracle\n",
    "import oracledb\n",
    "\n",
    "def get_connection():\n",
    "    user = os.getenv(\"DB_USER\")\n",
    "    password = os.getenv(\"DB_PASSWORD\")\n",
    "    dsn = os.getenv(\"DB_DSN\")\n",
    "    wallet_location = os.getenv(\"WALLET_LOCATION\")\n",
    "    wallet_password = os.getenv(\"WALLET_PASSWORD\")\n",
    "    \n",
    "    missing = [name for name, val in ((\"DB_USER\", user), (\"DB_PASSWORD\", password), (\"DB_DSN\", dsn)) if not val]\n",
    "    if missing:\n",
    "        raise RuntimeError(f\"Missing environment variables: {', '.join(missing)}\")\n",
    "    \n",
    "    return oracledb.connect(\n",
    "        user=user,\n",
    "        password=password,\n",
    "        dsn=dsn,\n",
    "        wallet_location=wallet_location,\n",
    "        wallet_password=wallet_password\n",
    "    )\n",
    "\n",
    "connection = get_connection()\n",
    "\n",
    "cursor = connection.cursor()\n",
    "\n",
    "ORACLE_USER = os.getenv(\"DB_USER\")\n",
    "\n",
    "cursor.execute(\"SELECT USER FROM dual\")\n",
    "print(\"Conectado como:\", cursor.fetchone()[0])"
   ]
  },
  {
   "cell_type": "code",
   "execution_count": 6,
   "metadata": {},
   "outputs": [
    {
     "name": "stdout",
     "output_type": "stream",
     "text": [
      "Esquema de la base de datos:\n",
      "DBTOOLS$EXECUTION_HISTORY(ID, HASH, CREATED_BY, CREATED_ON, UPDATED_BY, UPDATED_ON, STATEMENT, TIMES)\n",
      "ENFERMEDADESMENTALESDIAGNOSTICO(Comunidad Autónoma, NOMBRE, FECHA_DE_NACIMIENTO, SEXO, CCAA_RESIDENCIA, FECHA_DE_INGRESO, CIRCUNSTANCIA_DE_CONTACTO, FECHA_DE_FIN_CONTACTO, TIPO_ALTA, Estancia Días, Diagnóstico Principal, Categoría, Diagnóstico 2, Diagnóstico 3, Diagnóstico 4, Diagnóstico 5, Diagnóstico 6, Diagnóstico 7, Diagnóstico 8, Diagnóstico 9, Diagnóstico 10, Diagnóstico 11, Diagnóstico 12, Diagnóstico 13, Diagnóstico 14, Fecha de Intervención, PROCEDIMIENTO_1, PROCEDIMIENTO_2, PROCEDIMIENTO_3, PROCEDIMIENTO_4, PROCEDIMIENTO_5, PROCEDIMIENTO_6, PROCEDIMIENTO_7, PROCEDIMIENTO_8, PROCEDIMIENTO_9, PROCEDIMIENTO_10, PROCEDIMIENTO_11, PROCEDIMIENTO_12, PROCEDIMIENTO_13, PROCEDIMIENTO_14, PROCEDIMIENTO_15, PROCEDIMIENTO_16, PROCEDIMIENTO_17, PROCEDIMIENTO_18, PROCEDIMIENTO_19, PROCEDIMIENTO_20, GDR_AP, CDM_AP, TIPO_GDR_AP, Valor Peso Español, GRD_APR, CDM_APR, TIPO_GDR_APR, VALOR_PESO_AMERICANO_APR, NIVEL_SEVERIDAD_APR, RIESGO_MORTALIDAD_APR, SERVICIO, EDAD, REINGRESO, COSTE_APR, GDR_IR, TIPO_GDR_IR, TIPO_PROCESO_IR, CIE, Número de registro anual, CENTRO_RECODIFICADO, CIP_SNS_RECODIFICADO, País Nacimiento, País Residencia, FECHA_DE_INICIO_CONTACTO, Régimen Financiación, PROCEDENCIA, CONTINUIDAD_ASISTENCIAL, INGRESO_EN_UCI, Días UCI, Diagnóstico 15, Diagnóstico 16, Diagnóstico 17, Diagnóstico 18, Diagnóstico 19, Diagnóstico 20, POA Diagnóstico Principal, POA Diagnóstico 2, POA Diagnóstico 3, POA Diagnóstico 4, POA Diagnóstico 5, POA Diagnóstico 6, POA Diagnóstico 7, POA Diagnóstico 8, POA Diagnóstico 9, POA Diagnóstico 10, POA Diagnóstico 11, POA Diagnóstico 12, POA Diagnóstico 13, POA Diagnóstico 14, POA Diagnóstico 15, POA Diagnóstico 16, POA Diagnóstico 17, POA Diagnóstico 18, POA Diagnóstico 19, POA Diagnóstico 20, PROCEDIMIENTO_EXTERNO_1, PROCEDIMIENTO_EXTERNO_2, PROCEDIMIENTO_EXTERNO_3, PROCEDIMIENTO_EXTERNO_4, PROCEDIMIENTO_EXTERNO_5, PROCEDIMIENTO_EXTERNO_6, TIPO_GRD_APR, Peso Español APR, EDAD_EN_INGRESO, MES_DE_INGRESO, ID)\n"
     ]
    }
   ],
   "source": [
    "# 🗂️ Descubrimiento del esquema\n",
    "cursor.execute(f\"\"\"\n",
    "    SELECT table_name, column_name\n",
    "    FROM all_tab_columns\n",
    "    WHERE owner = UPPER('{ORACLE_USER}')\n",
    "    ORDER BY table_name, column_id\n",
    "\"\"\")\n",
    "\n",
    "esquema = {}\n",
    "for table, column in cursor:\n",
    "    esquema.setdefault(table, []).append(column)\n",
    "\n",
    "print(\"Esquema de la base de datos:\")\n",
    "for tabla, columnas in esquema.items():\n",
    "    print(f\"{tabla}({', '.join(columnas)})\")"
   ]
  },
  {
   "cell_type": "code",
   "execution_count": 9,
   "metadata": {},
   "outputs": [],
   "source": [
    "# 🧠 Pregunta en lenguaje natural\n",
    "pregunta = \"¿Cuántas filas tiene la tabla de enfermos mentales?\""
   ]
  },
  {
   "cell_type": "code",
   "execution_count": 10,
   "metadata": {},
   "outputs": [
    {
     "name": "stdout",
     "output_type": "stream",
     "text": [
      "Consulta generada por IA:\n",
      " SELECT   COUNT(*) FROM ENFERMEDADESMENTALESDIAGNOSTICO \n"
     ]
    }
   ],
   "source": [
    "# 🤖 Generación de SQL con Gemini\n",
    "esquema_texto = \"\\n\".join(\n",
    "    f\"{tabla}({', '.join(columnas)})\" for tabla, columnas in esquema.items()\n",
    ")\n",
    "\n",
    "prompt_sql = f\"\"\"\n",
    "Eres un asistente experto en SQL para Oracle. Genera solo la consulta SQL compatible con Oracle.\n",
    "Usa este esquema de base de datos:\n",
    "{esquema_texto}\n",
    "\n",
    "Pregunta del usuario:\n",
    "{pregunta}\n",
    "\"\"\"\n",
    "\n",
    "raw_sql = model.generate_content(prompt_sql)\n",
    "sql_generado = raw_sql.text.strip().strip(\"```sql\").strip(\"```\")\n",
    "sql_generado = sql_generado.replace(\";\", \"\")  # Elimina el punto y coma si está presente\n",
    "#eliminar saltos de línea y tabulaciones pues dan error en Oracle\n",
    "sql_generado = sql_generado.replace(\"\\n\", \" \").replace(\"\\t\", \" \")\n",
    "\n",
    "\n",
    "print(\"Consulta generada por IA:\")\n",
    "print(sql_generado)"
   ]
  },
  {
   "cell_type": "code",
   "execution_count": 11,
   "metadata": {},
   "outputs": [
    {
     "data": {
      "text/html": [
       "<div>\n",
       "<style scoped>\n",
       "    .dataframe tbody tr th:only-of-type {\n",
       "        vertical-align: middle;\n",
       "    }\n",
       "\n",
       "    .dataframe tbody tr th {\n",
       "        vertical-align: top;\n",
       "    }\n",
       "\n",
       "    .dataframe thead th {\n",
       "        text-align: right;\n",
       "    }\n",
       "</style>\n",
       "<table border=\"1\" class=\"dataframe\">\n",
       "  <thead>\n",
       "    <tr style=\"text-align: right;\">\n",
       "      <th></th>\n",
       "      <th>COUNT(*)</th>\n",
       "    </tr>\n",
       "  </thead>\n",
       "  <tbody>\n",
       "    <tr>\n",
       "      <th>0</th>\n",
       "      <td>21210</td>\n",
       "    </tr>\n",
       "  </tbody>\n",
       "</table>\n",
       "</div>"
      ],
      "text/plain": [
       "   COUNT(*)\n",
       "0     21210"
      ]
     },
     "execution_count": 11,
     "metadata": {},
     "output_type": "execute_result"
    }
   ],
   "source": [
    "# 🧪 Ejecutar SQL y mostrar resultados\n",
    "cursor.execute(sql_generado)\n",
    "resultados = cursor.fetchall()\n",
    "columnas = [col[0] for col in cursor.description]\n",
    "\n",
    "import pandas as pd\n",
    "df = pd.DataFrame(resultados, columns=columnas)\n",
    "texto_resultado = df.to_markdown(index=False)\n",
    "df.head()"
   ]
  },
  {
   "cell_type": "code",
   "execution_count": 12,
   "metadata": {},
   "outputs": [
    {
     "name": "stdout",
     "output_type": "stream",
     "text": [
      "🧠 Respuesta interpretada por IA:\n",
      "¡Excelente! Como experto en análisis de datos, procedo a resumir e interpretar los resultados de esta consulta SQL.\n",
      "\n",
      "---\n",
      "\n",
      "### Resumen e Interpretación de Resultados de Consulta SQL\n",
      "\n",
      "**1. Pregunta Original de la Consulta:**\n",
      "La pregunta formulada a la base de datos fue: \"¿Cuántas filas tiene la tabla de enfermos mentales?\"\n",
      "El objetivo era obtener el conteo total de registros en una tabla específica, presumiblemente identificada como `tabla de enfermos mentales`.\n",
      "\n",
      "**2. Resultados Obtenidos:**\n",
      "La consulta ejecutada (`COUNT(*)`) devolvió el siguiente resultado:\n",
      "`21210`\n",
      "\n",
      "**3. Interpretación de los Resultados:**\n",
      "\n",
      "*   **Conteo Total de Registros:** El número `21.210` representa el **número exacto de filas** presentes en la tabla que fue consultada.\n",
      "*   **Volumen de Datos:** Esto significa que, en el momento de la ejecución de la consulta, existen **21.210 registros individuales** en la tabla de \"enfermos mentales\". Asumiendo que cada fila representa un caso único, un paciente, o una instancia de un registro de paciente, podemos afirmar que hay **21.210 entradas relacionadas con individuos diagnosticados o categorizados como enfermos mentales** en esta base de datos.\n",
      "\n",
      "**4. Implicaciones y Contexto Analítico:**\n",
      "\n",
      "Este número es una métrica fundamental y puede tener varias implicaciones importantes:\n",
      "\n",
      "*   **Escala del Problema/Población:** 21.210 es una cantidad considerable de registros. Este número da una idea de la escala de la población de estudio o de la base de datos de pacientes/casos relacionados con enfermedades mentales que se están gestionando.\n",
      "*   **Base para Análisis Posteriores:** Este conteo sirve como punto de partida para análisis más detallados. Por ejemplo:\n",
      "    *   Comparar este número con la población total para estimar la prevalencia.\n",
      "    *   Segmentar esta población por otras variables (edad, género, tipo de enfermedad, región) para entender subgrupos.\n",
      "    *   Monitorear este número a lo largo del tiempo para identificar tendencias de crecimiento o disminución.\n",
      "*   **Planificación de Recursos:** Para instituciones de salud, gobiernos o proveedores de servicios, este número es vital para la planificación de recursos (personal médico, camas hospitalarias, programas de apoyo, presupuesto).\n",
      "*   **Calidad y Alcance de Datos:** Si este número fuera inesperadamente alto o bajo, podría indicar la necesidad de revisar los criterios de inclusión de la tabla o la integridad de los datos.\n",
      "\n",
      "En resumen, la tabla de \"enfermos mentales\" contiene **21.210 registros distintos**, proporcionando una base cuantitativa sólida para cualquier análisis, planificación o toma de decisiones relacionada con este segmento específico de la población.\n"
     ]
    }
   ],
   "source": [
    "# 🧠 Interpretación con Gemini\n",
    "prompt_explicacion = f\"\"\"\n",
    "Eres un experto en análisis de datos. Resume e interpreta los resultados de una consulta SQL.\n",
    "La pregunta original fue: {pregunta}\n",
    "Los resultados fueron:\n",
    "\n",
    "{texto_resultado}\n",
    "\"\"\"\n",
    "\n",
    "response = model.generate_content(prompt_explicacion)\n",
    "print(\"🧠 Respuesta interpretada por IA:\")\n",
    "print(response.text.strip())"
   ]
  },
  {
   "cell_type": "markdown",
   "metadata": {},
   "source": [
    "## 🧠 Reflexión\n",
    "\n",
    "- ¿Qué ventajas tiene usar Gemini con API Key?\n",
    "- ¿Qué limitaciones presenta frente a Vertex AI?\n",
    "- ¿Cómo podrías extender este flujo para validar o visualizar los resultados?\n",
    "\n",
    "Este notebook es ideal para prácticas rápidas, pero recuerda que para entornos profesionales, Vertex AI ofrece mayor control y seguridad."
   ]
  }
 ],
 "metadata": {
  "kernelspec": {
   "display_name": "Python 3",
   "language": "python",
   "name": "python3"
  },
  "language_info": {
   "codemirror_mode": {
    "name": "ipython",
    "version": 3
   },
   "file_extension": ".py",
   "mimetype": "text/x-python",
   "name": "python",
   "nbconvert_exporter": "python",
   "pygments_lexer": "ipython3",
   "version": "3.12.4"
  }
 },
 "nbformat": 4,
 "nbformat_minor": 2
}
