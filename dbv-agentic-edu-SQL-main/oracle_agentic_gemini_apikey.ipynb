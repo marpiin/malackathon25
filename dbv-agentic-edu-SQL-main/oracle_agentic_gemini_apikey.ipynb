{
 "cells": [
  {
   "cell_type": "markdown",
   "metadata": {},
   "source": [
    "# 🧠 IA + Oracle: Hola mundo con Gemini API Key\n",
    "\n",
    "Este notebook muestra cómo conectar una base de datos Oracle y generar consultas SQL desde lenguaje natural usando el modelo Gemini de Google vía su librería oficial `google.generativeai`.\n",
    "\n",
    "🔑 Solo necesitas una clave API (`GOOGLE_API_KEY`).  \n",
    "❌ No se requiere `project_id`, `region` ni cuenta de servicio.\n",
    "\n",
    "Ideal para prototipos rápidos y prácticas educativas."
   ]
  },
  {
   "cell_type": "markdown",
   "metadata": {},
   "source": [
    "## 🔍 Comparativa: Vertex AI vs Gemini API Key\n",
    "\n",
    "| Característica              | Vertex AI (AISuite)         | Gemini API Key (`google.generativeai`) |\n",
    "|----------------------------|-----------------------------|----------------------------------------|\n",
    "| Requiere `project_id`      | ✅ Sí                        | ❌ No                                   |\n",
    "| Requiere `region`          | ✅ Sí                        | ❌ No                                   |\n",
    "| Requiere cuenta de servicio| ✅ Sí                        | ❌ No                                   |\n",
    "| Ideal para producción      | ✅                           | 🔸 Solo para prototipos y pruebas       |\n",
    "| Simplicidad de uso         | 🔸 Más compleja              | ✅ Muy sencilla                         |"
   ]
  },
  {
   "cell_type": "code",
   "execution_count": 2,
   "metadata": {},
   "outputs": [],
   "source": [
    "# 🔐 Configurar Gemini con API Key\n",
    "from dotenv import load_dotenv\n",
    "import os\n",
    "import google.generativeai as genai\n",
    "\n",
    "load_dotenv()\n",
    "GOOGLE_API_KEY = os.getenv(\"GOOGLE_API_KEY\")\n",
    "\n",
    "genai.configure(api_key=GOOGLE_API_KEY)\n",
    "model = genai.GenerativeModel(\"gemini-2.5-flash\")"
   ]
  },
  {
   "cell_type": "code",
   "execution_count": 3,
   "metadata": {},
   "outputs": [
    {
     "name": "stdout",
     "output_type": "stream",
     "text": [
      "Conectado como: MALACKATHON\n"
     ]
    }
   ],
   "source": [
    "# 🔗 Conexión a Oracle\n",
    "import oracledb\n",
    "\n",
    "def get_connection():\n",
    "    user = os.getenv(\"DB_USER\")\n",
    "    password = os.getenv(\"DB_PASSWORD\")\n",
    "    dsn = os.getenv(\"DB_DSN\")\n",
    "    wallet_location = os.getenv(\"WALLET_LOCATION\")\n",
    "    wallet_password = os.getenv(\"WALLET_PASSWORD\")\n",
    "    \n",
    "    missing = [name for name, val in ((\"DB_USER\", user), (\"DB_PASSWORD\", password), (\"DB_DSN\", dsn)) if not val]\n",
    "    if missing:\n",
    "        raise RuntimeError(f\"Missing environment variables: {', '.join(missing)}\")\n",
    "    \n",
    "    return oracledb.connect(\n",
    "        user=user,\n",
    "        password=password,\n",
    "        dsn=dsn,\n",
    "        wallet_location=wallet_location,\n",
    "        wallet_password=wallet_password\n",
    "    )\n",
    "\n",
    "connection = get_connection()\n",
    "\n",
    "cursor = connection.cursor()\n",
    "\n",
    "ORACLE_USER = os.getenv(\"DB_USER\")\n",
    "\n",
    "cursor.execute(\"SELECT USER FROM dual\")\n",
    "print(\"Conectado como:\", cursor.fetchone()[0])"
   ]
  },
  {
   "cell_type": "code",
   "execution_count": 4,
   "metadata": {},
   "outputs": [
    {
     "name": "stdout",
     "output_type": "stream",
     "text": [
      "Esquema de la base de datos:\n",
      "CATEGORIAS_DIAGNOSTICO(ID_CATEGORIA, NOMBRE_CATEGORIA, FECHA_CREACION)\n",
      "CENTROS(ID_CENTRO, CODIGO_CENTRO, FECHA_CREACION)\n",
      "COMUNIDADES(ID_COMUNIDAD, NOMBRE_COMUNIDAD, FECHA_CREACION)\n",
      "DBTOOLS$EXECUTION_HISTORY(ID, HASH, CREATED_BY, CREATED_ON, UPDATED_BY, UPDATED_ON, STATEMENT, TIMES)\n",
      "DIAGNOSTICOS(ID_DIAGNOSTICO, NOMBRE_DIAGNOSTICO, ID_CATEGORIA, CODIGO_CIE, FECHA_CREACION)\n",
      "INGRESOS(ID_INGRESO, CIP_SNS_RECODIFICADO, SEXO, EDAD_EN_INGRESO, ID_COMUNIDAD_ATENCION, ID_COMUNIDAD_RESIDENCIA, FECHA_INGRESO, MES_INGRESO, CIRCUNSTANCIA_CONTACTO, TIPO_ALTA, ESTANCIA_DIAS, ID_CENTRO, ID_SERVICIO, REGIMEN_FINANCIACION, PROCEDENCIA, ID_DIAGNOSTICO_PRINCIPAL, ID_CATEGORIA, PROCEDIMIENTO_1, PROCEDIMIENTO_2, PROCEDIMIENTO_3, GDR_AP, CDM_AP, GRD_APR, CDM_APR, NIVEL_SEVERIDAD_APR, RIESGO_MORTALIDAD_APR, CIE, REINGRESO, COSTE_APR, INGRESO_EN_UCI, DIAS_UCI, FECHA_CREACION)\n",
      "PAISES(ID_PAIS, NOMBRE_PAIS, FECHA_CREACION)\n",
      "PROCEDIMIENTOS(ID_PROCEDIMIENTO, CODIGO_PROCEDIMIENTO, DESCRIPCION, FECHA_CREACION)\n",
      "SERVICIOS(ID_SERVICIO, NOMBRE_SERVICIO, FECHA_CREACION)\n",
      "VISTA_DASHBOARD(ID_INGRESO, FECHA_INGRESO, MES_INGRESO, COMUNIDAD_ATENCION, COMUNIDAD_RESIDENCIA, SEXO, EDAD_EN_INGRESO, DIAGNOSTICO_PRINCIPAL, CATEGORIA_DIAGNOSTICO, NOMBRE_SERVICIO, ESTANCIA_DIAS, COSTE_APR, INGRESO_EN_UCI, DIAS_UCI, TIPO_ALTA, NIVEL_SEVERIDAD_APR, RIESGO_MORTALIDAD_APR, CODIGO_CENTRO, REINGRESO)\n",
      "VISTA_MUY_INTERESANTE(ID_INGRESO, FECHA_INGRESO, MES_INGRESO, COMUNIDAD_ATENCION, COMUNIDAD_RESIDENCIA, SEXO, EDAD_EN_INGRESO, GRUPO_EDAD, DIAGNOSTICO_PRINCIPAL, CATEGORIA_DIAGNOSTICO, NOMBRE_SERVICIO, CODIGO_CENTRO, ESTANCIA_DIAS, TIPO_ESTANCIA, COSTE_APR, NIVEL_COSTE, INGRESO_EN_UCI, DIAS_UCI, TIPO_ALTA, NIVEL_SEVERIDAD_APR, RIESGO_MORTALIDAD_APR, REINGRESO, CLASIFICACION_CASO, ALERTA_JOVEN)\n"
     ]
    }
   ],
   "source": [
    "# 🗂️ Descubrimiento del esquema\n",
    "cursor.execute(f\"\"\"\n",
    "    SELECT table_name, column_name\n",
    "    FROM all_tab_columns\n",
    "    WHERE owner = UPPER('{ORACLE_USER}')\n",
    "    ORDER BY table_name, column_id\n",
    "\"\"\")\n",
    "\n",
    "esquema = {}\n",
    "for table, column in cursor:\n",
    "    esquema.setdefault(table, []).append(column)\n",
    "\n",
    "print(\"Esquema de la base de datos:\")\n",
    "for tabla, columnas in esquema.items():\n",
    "    print(f\"{tabla}({', '.join(columnas)})\")"
   ]
  },
  {
   "cell_type": "code",
   "execution_count": 6,
   "metadata": {},
   "outputs": [],
   "source": [
    "# 🧠 Pregunta en lenguaje natural\n",
    "pregunta = \"Análisis descriptivo inicial: estudio estadístico elemental de las variables, tipos de datos (fecha, carácter, categóricos, numéricos, etc), valores nulos o desconocidos, outliers, etc.\""
   ]
  },
  {
   "cell_type": "code",
   "execution_count": null,
   "metadata": {},
   "outputs": [
    {
     "name": "stdout",
     "output_type": "stream",
     "text": [
      "Consulta generada por IA:\n",
      "response:\n",
      "GenerateContentResponse(\n",
      "    done=True,\n",
      "    iterator=None,\n",
      "    result=protos.GenerateContentResponse({\n",
      "      \"candidates\": [\n",
      "        {\n",
      "          \"content\": {\n",
      "            \"parts\": [\n",
      "              {\n",
      "                \"text\": \"A continuaci\\u00f3n, se presenta un an\\u00e1lisis descriptivo inicial de la estructura de la base de datos, detallando los tipos de datos, la naturaleza de las variables, la potencial presencia de valores nulos y posibles consideraciones sobre outliers para cada tabla y columna:\\n\\n---\\n\\n### An\\u00e1lisis Descriptivo Inicial de la Base de Datos\\n\\nLa base de datos se estructura en torno a informaci\\u00f3n sobre ingresos hospitalarios (`INGRESOS`), complementada con tablas dimensionales (`CATEGORIAS_DIAGNOSTICO`, `CENTROS`, `COMUNIDADES`, `DIAGNOSTICOS`, `PAISES`, `PROCEDIMIENTOS`, `SERVICIOS`) que proporcionan contexto. Adicionalmente, cuenta con vistas pre-agregadas y enriquecidas (`VISTA_DASHBOARD`, `VISTA_MUY_INTERESANTE`) dise\\u00f1adas para facilitar el an\\u00e1lisis y la visualizaci\\u00f3n. La tabla `DBTOOLS$EXECUTION_HISTORY` es una tabla de sistema y se describe brevemente.\\n\\n**Consideraciones Generales:**\\n*   **Identificadores (IDs):** Generalmente son num\\u00e9ricos enteros, act\\u00faan como claves primarias y for\\u00e1neas, y se espera que no contengan valores nulos.\\n*   **Fechas de Creaci\\u00f3n (`FECHA_CREACION`):** Son campos de tipo fecha/hora que registran la inserci\\u00f3n del registro, \\u00fatiles para la auditor\\u00eda y la cronolog\\u00eda de los datos maestros. Pueden presentar nulos si no se registran sistem\\u00e1ticamente.\\n*   **Cardinalidad:** Se har\\u00e1 referencia a si una variable es de alta (muchos valores \\u00fanicos) o baja (pocos valores \\u00fanicos) cardinalidad, especialmente para variables categ\\u00f3ricas.\\n*   **Outliers:** Se identificar\\u00e1n las variables num\\u00e9ricas donde la presencia de valores at\\u00edpicos (extremadamente altos o bajos, o fuera de un rango l\\u00f3gico) es m\\u00e1s probable y requiere especial atenci\\u00f3n.\\n*   **Valores Nulos:** Se se\\u00f1alar\\u00e1 d\\u00f3nde son probables, si representan una ausencia de informaci\\u00f3n, si la informaci\\u00f3n no aplica (ej. d\\u00edas UCI si no ingres\\u00f3 a UCI) o si son errores de dato.\\n\\n---\\n\\n### Descripci\\u00f3n por Tabla:\\n\\n**1. CATEGORIAS_DIAGNOSTICO**\\n*   **ID_CATEGORIA:**\\n    *   **Tipo de dato:** Num\\u00e9rico Entero.\\n    *   **Naturaleza:** Identificador \\u00fanico (clave primaria).\\n    *   **Valores nulos:** No esperados.\\n    *   **Consideraciones:** Alta cardinalidad relativa al n\\u00famero de categor\\u00edas.\\n*   **NOMBRE_CATEGORIA:**\\n    *   **Tipo de dato:** Texto (String).\\n    *   **Naturaleza:** Categ\\u00f3rica Nominal.\\n    *   **Valores nulos:** Poco probables, representa la descripci\\u00f3n de la categor\\u00eda.\\n    *   **Consideraciones:** Unicidad esperada en los nombres de categor\\u00eda.\\n*   **FECHA_CREACION:**\\n    *   **Tipo de dato:** Fecha/Hora.\\n    *   **Naturaleza:** Marca de tiempo.\\n    *   **Valores nulos:** Posibles.\\n    *   **Consideraciones:** Rango l\\u00f3gico de fechas.\\n\\n**2. CENTROS**\\n*   **ID_CENTRO:**\\n    *   **Tipo de dato:** Num\\u00e9rico Entero.\\n    *   **Naturaleza:** Identificador \\u00fanico (clave primaria).\\n    *   **Valores nulos:** No esperados.\\n*   **CODIGO_CENTRO:**\\n    *   **Tipo de dato:** Texto/Num\\u00e9rico (String).\\n    *   **Naturaleza:** Categ\\u00f3rica Nominal, identificador secundario.\\n    *   **Valores nulos:** Poco probables.\\n    *   **Consideraciones:** Deber\\u00eda ser \\u00fanico por centro.\\n*   **FECHA_CREACION:**\\n    *   **Tipo de dato:** Fecha/Hora.\\n    *   **Naturaleza:** Marca de tiempo.\\n    *   **Valores nulos:** Posibles.\\n\\n**3. COMUNIDADES**\\n*   **ID_COMUNIDAD:**\\n    *   **Tipo de dato:** Num\\u00e9rico Entero.\\n    *   **Naturaleza:** Identificador \\u00fanico (clave primaria).\\n    *   **Valores nulos:** No esperados.\\n*   **NOMBRE_COMUNIDAD:**\\n    *   **Tipo de dato:** Texto (String).\\n    *   **Naturaleza:** Categ\\u00f3rica Nominal.\\n    *   **Valores nulos:** Poco probables.\\n    *   **Consideraciones:** Unicidad esperada. Cardinalidad baja (pocas comunidades aut\\u00f3nomas en Espa\\u00f1a).\\n*   **FECHA_CREACION:**\\n    *   **Tipo de dato:** Fecha/Hora.\\n    *   **Naturaleza:** Marca de tiempo.\\n    *   **Valores nulos:** Posibles.\\n\\n**4. DBTOOLS$EXECUTION_HISTORY** (Tabla de sistema/auditor\\u00eda)\\n*   **ID:** Num\\u00e9rico Entero, clave primaria, no nulo.\\n*   **HASH:** Texto, identificador \\u00fanico de ejecuci\\u00f3n, no nulo.\\n*   **CREATED_BY:** Texto, usuario, no nulo.\\n*   **CREATED_ON:** Fecha/Hora, no nulo.\\n*   **UPDATED_BY:** Texto, usuario, nulos posibles.\\n*   **UPDATED_ON:** Fecha/Hora, nulos posibles.\\n*   **STATEMENT:** Texto, sentencia SQL ejecutada, no nulo.\\n*   **TIMES:** Num\\u00e9rico Entero, conteo de ejecuciones, no nulo.\\n\\n**5. DIAGNOSTICOS**\\n*   **ID_DIAGNOSTICO:**\\n    *   **Tipo de dato:** Num\\u00e9rico Entero.\\n    *   **Naturaleza:** Identificador \\u00fanico (clave primaria).\\n    *   **Valores nulos:** No esperados.\\n*   **NOMBRE_DIAGNOSTICO:**\\n    *   **Tipo de dato:** Texto (String).\\n    *   **Naturaleza:** Categ\\u00f3rica Nominal, descriptiva.\\n    *   **Valores nulos:** Poco probables.\\n    *   **Consideraciones:** Deber\\u00eda ser \\u00fanico.\\n*   **ID_CATEGORIA:**\\n    *   **Tipo de dato:** Num\\u00e9rico Entero.\\n    *   **Naturaleza:** Clave for\\u00e1nea a `CATEGORIAS_DIAGNOSTICO`, Categ\\u00f3rica Nominal.\\n    *   **Valores nulos:** Podr\\u00edan existir si un diagn\\u00f3stico no tiene categor\\u00eda asignada, pero preferentemente no nulos.\\n*   **CODIGO_CIE:**\\n    *   **Tipo de dato:** Texto (String).\\n    *   **Naturaleza:** Categ\\u00f3rica Nominal, identificador de clasificaci\\u00f3n (e.g., CIE-10).\\n    *   **Valores nulos:** Poco probables, esencial para la codificaci\\u00f3n.\\n    *   **Consideraciones:** Unicidad esperada.\\n*   **FECHA_CREACION:**\\n    *   **Tipo de dato:** Fecha/Hora.\\n    *   **Naturaleza:** Marca de tiempo.\\n    *   **Valores nulos:** Posibles.\\n\\n**6. INGRESOS** (Tabla principal de hechos)\\n*   **ID_INGRESO:**\\n    *   **Tipo de dato:** Num\\u00e9rico Entero.\\n    *   **Naturaleza:** Identificador \\u00fanico del ingreso (clave primaria).\\n    *   **Valores nulos:** No esperados.\\n*   **CIP_SNS_RECODIFICADO:**\\n    *   **Tipo de dato:** Texto (String).\\n    *   **Naturaleza:** Identificador de paciente recodificado (pseudonimizado).\\n    *   **Valores nulos:** Posibles, aunque es un dato clave.\\n    *   **Consideraciones:** No es un PK, un paciente puede tener m\\u00faltiples ingresos.\\n*   **SEXO:**\\n    *   **Tipo de dato:** Texto (String).\\n    *   **Naturaleza:** Categ\\u00f3rica Nominal (e.g., 'M', 'F', 'Otro', 'Desconocido').\\n    *   **Valores nulos:** Posibles.\\n    *   **Consideraciones:** Baja cardinalidad.\\n*   **EDAD_EN_INGRESO:**\\n    *   **Tipo de dato:** Num\\u00e9rico Entero.\\n    *   **Naturaleza:** Num\\u00e9rica Discreta (a\\u00f1os).\\n    *   **Valores nulos:** Posibles.\\n    *   **Consideraciones:** Rango esperado [0, 120]. Buscar outliers como edades negativas o extremadamente altas.\\n*   **ID_COMUNIDAD_ATENCION:**\\n    *   **Tipo de dato:** Num\\u00e9rico Entero.\\n    *   **Naturaleza:** Clave for\\u00e1nea a `COMUNIDADES`, Categ\\u00f3rica Nominal.\\n    *   **Valores nulos:** Potencialmente, pero no deseable para un ingreso.\\n*   **ID_COMUNIDAD_RESIDENCIA:**\\n    *   **Tipo de dato:** Num\\u00e9rico Entero.\\n    *   **Naturaleza:** Clave for\\u00e1nea a `COMUNIDADES`, Categ\\u00f3rica Nominal.\\n    *   **Valores nulos:** Posibles (e.g., residencia desconocida o fuera de Espa\\u00f1a).\\n*   **FECHA_INGRESO:**\\n    *   **Tipo de dato:** Fecha/Hora.\\n    *   **Naturaleza:** Fecha del evento.\\n    *   **Valores nulos:** No esperados, dato fundamental.\\n    *   **Consideraciones:** Rango temporal relevante para el estudio. Verificar fechas futuras o muy antiguas.\\n*   **MES_INGRESO:**\\n    *   **Tipo de dato:** Num\\u00e9rico Entero o Texto.\\n    *   **Naturaleza:** Categ\\u00f3rica Ordinal/Nominal (derivado de `FECHA_INGRESO`).\\n    *   **Valores nulos:** Posibles si `FECHA_INGRESO` es nulo.\\n*   **CIRCUNSTANCIA_CONTACTO:**\\n    *   **Tipo de dato:** Texto (String).\\n    *   **Naturaleza:** Categ\\u00f3rica Nominal (e.g., 'Urgencias', 'Programado').\\n    *   **Valores nulos:** Posibles.\\n*   **TIPO_ALTA:**\\n    *   **Tipo de dato:** Texto (String).\\n    *   **Naturaleza:** Categ\\u00f3rica Nominal (e.g., 'Alta a domicilio', 'Fallecimiento', 'Traslado').\\n    *   **Valores nulos:** Posibles, especialmente si el ingreso est\\u00e1 a\\u00fan abierto.\\n*   **ESTANCIA_DIAS:**\\n    *   **Tipo de dato:** Num\\u00e9rico Entero.\\n    *   **Naturaleza:** Num\\u00e9rica Discreta (duraci\\u00f3n).\\n    *   **Valores nulos:** Posibles (ingreso activo, error).\\n    *   **Consideraciones:** Rango esperado [0, ~365]. Outliers: valores negativos (error), estancias excesivamente largas (posiblemente un a\\u00f1o o m\\u00e1s, a revisar).\\n*   **ID_CENTRO:**\\n    *   **Tipo de dato:** Num\\u00e9rico Entero.\\n    *   **Naturaleza:** Clave for\\u00e1nea a `CENTROS`, Categ\\u00f3rica Nominal.\\n    *   **Valores nulos:** No esperados.\\n*   **ID_SERVICIO:**\\n    *   **Tipo de dato:** Num\\u00e9rico Entero.\\n    *   **Naturaleza:** Clave for\\u00e1nea a `SERVICIOS`, Categ\\u00f3rica Nominal.\\n    *   **Valores nulos:** Posibles.\\n*   **REGIMEN_FINANCIACION:**\\n    *   **Tipo de dato:** Texto (String).\\n    *   **Naturaleza:** Categ\\u00f3rica Nominal.\\n    *   **Valores nulos:** Posibles.\\n*   **PROCEDENCIA:**\\n    *   **Tipo de dato:** Texto (String).\\n    *   **Naturaleza:** Categ\\u00f3rica Nominal (e.g., 'Domicilio', 'Residencia', 'Traslado').\\n    *   **Valores nulos:** Posibles.\\n*   **ID_DIAGNOSTICO_PRINCIPAL:**\\n    *   **Tipo de dato:** Num\\u00e9rico Entero.\\n    *   **Naturaleza:** Clave for\\u00e1nea a `DIAGNOSTICOS`, Categ\\u00f3rica Nominal.\\n    *   **Valores nulos:** No esperados, es el diagn\\u00f3stico central del ingreso.\\n*   **ID_CATEGORIA:**\\n    *   **Tipo de dato:** Num\\u00e9rico Entero.\\n    *   **Naturaleza:** Clave for\\u00e1nea a `CATEGORIAS_DIAGNOSTICO`, Categ\\u00f3rica Nominal. (Redundante si se usa `ID_DIAGNOSTICO_PRINCIPAL` pero \\u00fatil para desnormalizaci\\u00f3n).\\n    *   **Valores nulos:** No esperados.\\n*   **PROCEDIMIENTO_1, PROCEDIMIENTO_2, PROCEDIMIENTO_3:**\\n    *   **Tipo de dato:** Texto (String) o Num\\u00e9rico (si son FK a `PROCEDIMIENTOS`). Asumo c\\u00f3digos de procedimiento.\\n    *   **Naturaleza:** Categ\\u00f3rica Nominal.\\n    *   **Valores nulos:** Muy frecuentes, ya que no todos los ingresos tienen 1, 2 o 3 procedimientos. Representan ausencia de procedimiento.\\n*   **GDR_AP, CDM_AP, GRD_APR, CDM_APR:**\\n    *   **Tipo de dato:** Texto/Num\\u00e9rico (String).\\n    *   **Naturaleza:** Categ\\u00f3rica Nominal (c\\u00f3digos de grupos relacionados con el diagn\\u00f3stico/procedimiento).\\n    *   **Valores nulos:** Posibles si la clasificaci\\u00f3n no aplica o no se ha realizado.\\n*   **NIVEL_SEVERIDAD_APR:**\\n    *   **Tipo de dato:** Num\\u00e9rico Entero (1-4) o Texto.\\n    *   **Naturaleza:** Categ\\u00f3rica Ordinal.\\n    *   **Valores nulos:** Posibles.\\n    *   **Consideraciones:** Rango limitado (e.g., 1=menor, 4=extrema).\\n*   **RIESGO_MORTALIDAD_APR:**\\n    *   **Tipo de dato:** Num\\u00e9rico Entero (1-4) o Texto.\\n    *   **Naturaleza:** Categ\\u00f3rica Ordinal.\\n    *   **Valores nulos:** Posibles.\\n    *   **Consideraciones:** Rango limitado (e.g., 1=menor, 4=extremo).\\n*   **CIE:**\\n    *   **Tipo de dato:** Texto (String).\\n    *   **Naturaleza:** Categ\\u00f3rica Nominal (c\\u00f3digo CIE). (Redundante con `ID_DIAGNOSTICO_PRINCIPAL` si `DIAGNOSTICOS.CODIGO_CIE` es el mismo, pero puede ser el c\\u00f3digo raw de origen).\\n    *   **Valores nulos:** Posibles.\\n*   **REINGRESO:**\\n    *   **Tipo de dato:** Booleano/Texto (e.g., 'S\\u00ed'/'No').\\n    *   **Naturaleza:** Categ\\u00f3rica Binaria.\\n    *   **Valores nulos:** Posibles.\\n*   **COSTE_APR:**\\n    *   **Tipo de dato:** Num\\u00e9rico Decimal.\\n    *   **Naturaleza:** Num\\u00e9rica Continua (monetaria).\\n    *   **Valores nulos:** Posibles si el coste no ha sido calculado o no aplica.\\n    *   **Consideraciones:** Rango [0, muy alto]. Outliers: valores negativos (error), costes extremadamente altos o bajos.\\n*   **INGRESO_EN_UCI:**\\n    *   **Tipo de dato:** Booleano/Texto (e.g., 'S\\u00ed'/'No').\\n    *   **Naturaleza:** Categ\\u00f3rica Binaria.\\n    *   **Valores nulos:** Posibles.\\n*   **DIAS_UCI:**\\n    *   **Tipo de dato:** Num\\u00e9rico Entero.\\n    *   **Naturaleza:** Num\\u00e9rica Discreta (duraci\\u00f3n).\\n    *   **Valores nulos:** Muy frecuentes y esperados, significan que no hubo ingreso en UCI.\\n    *   **Consideraciones:** Rango [0, Estancia_dias]. Outliers: valores negativos (error), estancias UCI > estancia total.\\n*   **FECHA_CREACION:**\\n    *   **Tipo de dato:** Fecha/Hora.\\n    *   **Naturaleza:** Marca de tiempo.\\n    *   **Valores nulos:** Posibles.\\n\\n**7. PAISES**\\n*   **ID_PAIS:** Num\\u00e9rico Entero, clave primaria, no nulo.\\n*   **NOMBRE_PAIS:** Texto, Categ\\u00f3rica Nominal, poco nulo.\\n*   **FECHA_CREACION:** Fecha/Hora, nulos posibles.\\n\\n**8. PROCEDIMIENTOS**\\n*   **ID_PROCEDIMIENTO:** Num\\u00e9rico Entero, clave primaria, no nulo.\\n*   **CODIGO_PROCEDIMIENTO:** Texto, Categ\\u00f3rica Nominal, poco nulo. Unicidad esperada.\\n*   **DESCRIPCION:** Texto, descriptivo, nulos posibles.\\n*   **FECHA_CREACION:** Fecha/Hora, nulos posibles.\\n\\n**9. SERVICIOS**\\n*   **ID_SERVICIO:** Num\\u00e9rico Entero, clave primaria, no nulo.\\n*   **NOMBRE_SERVICIO:** Texto, Categ\\u00f3rica Nominal, poco nulo. Unicidad esperada.\\n*   **FECHA_CREACION:** Fecha/Hora, nulos posibles.\\n\\n---\\n\\n### Descripci\\u00f3n de Vistas (Datos pre-procesados para an\\u00e1lisis)\\n\\n**10. VISTA_DASHBOARD** (Similar a `INGRESOS` pero con nombres descriptivos y sin IDs de FK)\\n*   **ID_INGRESO:** Num\\u00e9rico Entero, identificador de ingreso, no nulo.\\n*   **FECHA_INGRESO:** Fecha/Hora, fecha del evento, no nulo.\\n*   **MES_INGRESO:** Texto/Num\\u00e9rico, Categ\\u00f3rica, nulos posibles.\\n*   **COMUNIDAD_ATENCION:** Texto, Categ\\u00f3rica Nominal, nulos posibles (originalmente FK).\\n*   **COMUNIDAD_RESIDENCIA:** Texto, Categ\\u00f3rica Nominal, nulos posibles.\\n*   **SEXO:** Texto, Categ\\u00f3rica Nominal, nulos posibles.\\n*   **EDAD_EN_INGRESO:** Num\\u00e9rico Entero, Discreta. Nulos posibles. Outliers: revisar.\\n*   **DIAGNOSTICO_PRINCIPAL:** Texto, Categ\\u00f3rica Nominal, no nulo (nombre del diagn\\u00f3stico).\\n*   **CATEGORIA_DIAGNOSTICO:** Texto, Categ\\u00f3rica Nominal, no nulo (nombre de la categor\\u00eda).\\n*   **NOMBRE_SERVICIO:** Texto, Categ\\u00f3rica Nominal, nulos posibles.\\n*   **ESTANCIA_DIAS:** Num\\u00e9rico Entero, Discreta. Nulos posibles. Outliers: revisar estancias largas/negativas.\\n*   **COSTE_APR:** Num\\u00e9rico Decimal, Continua. Nulos posibles. Outliers: revisar costes extremos.\\n*   **INGRESO_EN_UCI:** Booleano/Texto, Categ\\u00f3rica Binaria, nulos posibles.\\n*   **DIAS_UCI:** Num\\u00e9rico Entero, Discreta. Nulos frecuentes (ausencia de UCI). Outliers: revisar d\\u00edas UCI > estancia total.\\n*   **TIPO_ALTA:** Texto, Categ\\u00f3rica Nominal, nulos posibles.\\n*   **NIVEL_SEVERIDAD_APR:** Num\\u00e9rico Entero o Texto, Categ\\u00f3rica Ordinal, nulos posibles.\\n*   **RIESGO_MORTALIDAD_APR:** Num\\u00e9rico Entero o Texto, Categ\\u00f3rica Ordinal, nulos posibles.\\n*   **CODIGO_CENTRO:** Texto/Num\\u00e9rico, Categ\\u00f3rica Nominal, no nulo.\\n*   **REINGRESO:** Booleano/Texto, Categ\\u00f3rica Binaria, nulos posibles.\\n\\n**11. VISTA_MUY_INTERESANTE** (Extiende `VISTA_DASHBOARD` con variables derivadas)\\n*   **ID_INGRESO:** Num\\u00e9rico Entero, identificador de ingreso, no nulo.\\n*   **FECHA_INGRESO:** Fecha/Hora, fecha del evento, no nulo.\\n*   **MES_INGRESO:** Texto/Num\\u00e9rico, Categ\\u00f3rica, nulos posibles.\\n*   **COMUNIDAD_ATENCION:** Texto, Categ\\u00f3rica Nominal, nulos posibles.\\n*   **COMUNIDAD_RESIDENCIA:** Texto, Categ\\u00f3rica Nominal, nulos posibles.\\n*   **SEXO:** Texto, Categ\\u00f3rica Nominal, nulos posibles.\\n*   **EDAD_EN_INGRESO:** Num\\u00e9rico Entero, Discreta. Nulos posibles. Outliers: revisar.\\n*   **GRUPO_EDAD:**\\n    *   **Tipo de dato:** Texto (String).\\n    *   **Naturaleza:** Categ\\u00f3rica Ordinal (derivada de `EDAD_EN_INGRESO`).\\n    *   **Valores nulos:** Posibles si `EDAD_EN_INGRESO` es nulo o fuera de rango de clasificaci\\u00f3n.\\n*   **DIAGNOSTICO_PRINCIPAL:** Texto, Categ\\u00f3rica Nominal, no nulo.\\n*   **CATEGORIA_DIAGNOSTICO:** Texto, Categ\\u00f3rica Nominal, no nulo.\\n*   **NOMBRE_SERVICIO:** Texto, Categ\\u00f3rica Nominal, nulos posibles.\\n*   **CODIGO_CENTRO:** Texto/Num\\u00e9rico, Categ\\u00f3rica Nominal, no nulo.\\n*   **ESTANCIA_DIAS:** Num\\u00e9rico Entero, Discreta. Nulos posibles. Outliers: revisar.\\n*   **TIPO_ESTANCIA:**\\n    *   **Tipo de dato:** Texto (String).\\n    *   **Naturaleza:** Categ\\u00f3rica Ordinal (derivada de `ESTANCIA_DIAS`, e.g., 'Corta', 'Media', 'Larga').\\n    *   **Valores nulos:** Posibles si `ESTANCIA_DIAS` es nulo o no clasificable.\\n*   **COSTE_APR:** Num\\u00e9rico Decimal, Continua. Nulos posibles. Outliers: revisar.\\n*   **NIVEL_COSTE:**\\n    *   **Tipo de dato:** Texto (String).\\n    *   **Naturaleza:** Categ\\u00f3rica Ordinal (derivada de `COSTE_APR`, e.g., 'Bajo', 'Medio', 'Alto').\\n    *   **Valores nulos:** Posibles si `COSTE_APR` es nulo o no clasificable.\\n*   **INGRESO_EN_UCI:** Booleano/Texto, Categ\\u00f3rica Binaria, nulos posibles.\\n*   **DIAS_UCI:** Num\\u00e9rico Entero, Discreta. Nulos frecuentes. Outliers: revisar.\\n*   **TIPO_ALTA:** Texto, Categ\\u00f3rica Nominal, nulos posibles.\\n*   **NIVEL_SEVERIDAD_APR:** Num\\u00e9rico Entero o Texto, Categ\\u00f3rica Ordinal, nulos posibles.\\n*   **RIESGO_MORTALIDAD_APR:** Num\\u00e9rico Entero o Texto, Categ\\u00f3rica Ordinal, nulos posibles.\\n*   **REINGRESO:** Booleano/Texto, Categ\\u00f3rica Binaria, nulos posibles.\\n*   **CLASIFICACION_CASO:**\\n    *   **Tipo de dato:** Texto (String).\\n    *   **Naturaleza:** Categ\\u00f3rica Nominal (derivada, probablemente de m\\u00faltiples factores como diagn\\u00f3stico, severidad, etc.).\\n    *   **Valores nulos:** Posibles.\\n*   **ALERTA_JOVEN:**\\n    *   **Tipo de dato:** Booleano/Texto (e.g., 'S\\u00ed'/'No').\\n    *   **Naturaleza:** Categ\\u00f3rica Binaria (derivada, e.g., si Edad < X y/o cierta condici\\u00f3n).\\n    *   **Valores nulos:** Posibles.\\n\\n---\\n\\nEste an\\u00e1lisis inicial proporciona una base s\\u00f3lida para entender la estructura de los datos. El siguiente paso en un an\\u00e1lisis exploratorio ser\\u00eda cuantificar estas observaciones (conteo de nulos, estad\\u00edsticas descriptivas, distribuci\\u00f3n de categor\\u00edas, identificaci\\u00f3n program\\u00e1tica de outliers) y visualizar los datos para descubrir patrones y relaciones.\"\n",
      "              }\n",
      "            ],\n",
      "            \"role\": \"model\"\n",
      "          },\n",
      "          \"finish_reason\": \"STOP\",\n",
      "          \"index\": 0\n",
      "        }\n",
      "      ],\n",
      "      \"usage_metadata\": {\n",
      "        \"prompt_token_count\": 808,\n",
      "        \"candidates_token_count\": 5421,\n",
      "        \"total_token_count\": 12203\n",
      "      },\n",
      "      \"model_version\": \"gemini-2.5-flash\"\n",
      "    }),\n",
      ")\n"
     ]
    }
   ],
   "source": [
    "# 🤖 Generación de SQL con Gemini\n",
    "esquema_texto = \"\\n\".join(\n",
    "    f\"{tabla}({', '.join(columnas)})\" for tabla, columnas in esquema.items()\n",
    ")\n",
    "\n",
    "prompt_sql = f\"\"\"\n",
    "Eres un asistente experto en SQL para Oracle. Genera solo la consulta SQL compatible con Oracle.\n",
    "Usa este esquema de base de datos:\n",
    "{esquema_texto}\n",
    "\n",
    "Pregunta del usuario:\n",
    "{pregunta}\n",
    "\"\"\"\n",
    "\n",
    "raw_sql = model.generate_content(prompt_sql)\n",
    "sql_generado = raw_sql.text.strip().strip(\"```sql\").strip(\"```\")\n",
    "sql_generado = sql_generado.replace(\";\", \"\")  # Elimina el punto y coma si está presente\n",
    "#eliminar saltos de línea y tabulaciones pues dan error en Oracle\n",
    "sql_generado = sql_generado.replace(\"\\n\", \" \").replace(\"\\t\", \" \")\n",
    "\n",
    "\n",
    "print(\"Consulta generada por IA:\")\n",
    "print(sql_generado)"
   ]
  },
  {
   "cell_type": "code",
   "execution_count": 11,
   "metadata": {},
   "outputs": [
    {
     "data": {
      "text/html": [
       "<div>\n",
       "<style scoped>\n",
       "    .dataframe tbody tr th:only-of-type {\n",
       "        vertical-align: middle;\n",
       "    }\n",
       "\n",
       "    .dataframe tbody tr th {\n",
       "        vertical-align: top;\n",
       "    }\n",
       "\n",
       "    .dataframe thead th {\n",
       "        text-align: right;\n",
       "    }\n",
       "</style>\n",
       "<table border=\"1\" class=\"dataframe\">\n",
       "  <thead>\n",
       "    <tr style=\"text-align: right;\">\n",
       "      <th></th>\n",
       "      <th>COUNT(*)</th>\n",
       "    </tr>\n",
       "  </thead>\n",
       "  <tbody>\n",
       "    <tr>\n",
       "      <th>0</th>\n",
       "      <td>21210</td>\n",
       "    </tr>\n",
       "  </tbody>\n",
       "</table>\n",
       "</div>"
      ],
      "text/plain": [
       "   COUNT(*)\n",
       "0     21210"
      ]
     },
     "execution_count": 11,
     "metadata": {},
     "output_type": "execute_result"
    }
   ],
   "source": [
    "# 🧪 Ejecutar SQL y mostrar resultados\n",
    "cursor.execute(sql_generado)\n",
    "resultados = cursor.fetchall()\n",
    "columnas = [col[0] for col in cursor.description]\n",
    "\n",
    "import pandas as pd\n",
    "df = pd.DataFrame(resultados, columns=columnas)\n",
    "texto_resultado = df.to_markdown(index=False)\n",
    "df.head()"
   ]
  },
  {
   "cell_type": "code",
   "execution_count": 12,
   "metadata": {},
   "outputs": [
    {
     "name": "stdout",
     "output_type": "stream",
     "text": [
      "🧠 Respuesta interpretada por IA:\n",
      "¡Excelente! Como experto en análisis de datos, procedo a resumir e interpretar los resultados de esta consulta SQL.\n",
      "\n",
      "---\n",
      "\n",
      "### Resumen e Interpretación de Resultados de Consulta SQL\n",
      "\n",
      "**1. Pregunta Original de la Consulta:**\n",
      "La pregunta formulada a la base de datos fue: \"¿Cuántas filas tiene la tabla de enfermos mentales?\"\n",
      "El objetivo era obtener el conteo total de registros en una tabla específica, presumiblemente identificada como `tabla de enfermos mentales`.\n",
      "\n",
      "**2. Resultados Obtenidos:**\n",
      "La consulta ejecutada (`COUNT(*)`) devolvió el siguiente resultado:\n",
      "`21210`\n",
      "\n",
      "**3. Interpretación de los Resultados:**\n",
      "\n",
      "*   **Conteo Total de Registros:** El número `21.210` representa el **número exacto de filas** presentes en la tabla que fue consultada.\n",
      "*   **Volumen de Datos:** Esto significa que, en el momento de la ejecución de la consulta, existen **21.210 registros individuales** en la tabla de \"enfermos mentales\". Asumiendo que cada fila representa un caso único, un paciente, o una instancia de un registro de paciente, podemos afirmar que hay **21.210 entradas relacionadas con individuos diagnosticados o categorizados como enfermos mentales** en esta base de datos.\n",
      "\n",
      "**4. Implicaciones y Contexto Analítico:**\n",
      "\n",
      "Este número es una métrica fundamental y puede tener varias implicaciones importantes:\n",
      "\n",
      "*   **Escala del Problema/Población:** 21.210 es una cantidad considerable de registros. Este número da una idea de la escala de la población de estudio o de la base de datos de pacientes/casos relacionados con enfermedades mentales que se están gestionando.\n",
      "*   **Base para Análisis Posteriores:** Este conteo sirve como punto de partida para análisis más detallados. Por ejemplo:\n",
      "    *   Comparar este número con la población total para estimar la prevalencia.\n",
      "    *   Segmentar esta población por otras variables (edad, género, tipo de enfermedad, región) para entender subgrupos.\n",
      "    *   Monitorear este número a lo largo del tiempo para identificar tendencias de crecimiento o disminución.\n",
      "*   **Planificación de Recursos:** Para instituciones de salud, gobiernos o proveedores de servicios, este número es vital para la planificación de recursos (personal médico, camas hospitalarias, programas de apoyo, presupuesto).\n",
      "*   **Calidad y Alcance de Datos:** Si este número fuera inesperadamente alto o bajo, podría indicar la necesidad de revisar los criterios de inclusión de la tabla o la integridad de los datos.\n",
      "\n",
      "En resumen, la tabla de \"enfermos mentales\" contiene **21.210 registros distintos**, proporcionando una base cuantitativa sólida para cualquier análisis, planificación o toma de decisiones relacionada con este segmento específico de la población.\n"
     ]
    }
   ],
   "source": [
    "# 🧠 Interpretación con Gemini\n",
    "prompt_explicacion = f\"\"\"\n",
    "Eres un experto en análisis de datos. Resume e interpreta los resultados de una consulta SQL.\n",
    "La pregunta original fue: {pregunta}\n",
    "Los resultados fueron:\n",
    "\n",
    "{texto_resultado}\n",
    "\"\"\"\n",
    "\n",
    "response = model.generate_content(prompt_explicacion)\n",
    "print(\"🧠 Respuesta interpretada por IA:\")\n",
    "print(response.text.strip())"
   ]
  },
  {
   "cell_type": "markdown",
   "metadata": {},
   "source": [
    "## 🧠 Reflexión\n",
    "\n",
    "- ¿Qué ventajas tiene usar Gemini con API Key?\n",
    "- ¿Qué limitaciones presenta frente a Vertex AI?\n",
    "- ¿Cómo podrías extender este flujo para validar o visualizar los resultados?\n",
    "\n",
    "Este notebook es ideal para prácticas rápidas, pero recuerda que para entornos profesionales, Vertex AI ofrece mayor control y seguridad."
   ]
  }
 ],
 "metadata": {
  "kernelspec": {
   "display_name": "Python 3",
   "language": "python",
   "name": "python3"
  },
  "language_info": {
   "codemirror_mode": {
    "name": "ipython",
    "version": 3
   },
   "file_extension": ".py",
   "mimetype": "text/x-python",
   "name": "python",
   "nbconvert_exporter": "python",
   "pygments_lexer": "ipython3",
   "version": "3.12.4"
  }
 },
 "nbformat": 4,
 "nbformat_minor": 2
}
